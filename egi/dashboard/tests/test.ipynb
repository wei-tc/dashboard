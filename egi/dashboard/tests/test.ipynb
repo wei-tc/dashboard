{
 "cells": [
  {
   "cell_type": "code",
   "execution_count": 2,
   "metadata": {
    "collapsed": true,
    "pycharm": {
     "is_executing": false
    }
   },
   "outputs": [
    {
     "data": {
      "text/plain": "Index(['Location', 'Date', 'As', 'Ba', 'HCO3', 'Cd', 'Ca', 'CO3', 'Cl', 'Cr',\n       'Co', 'Conductivity (mS/cm)', 'Cu', 'EC', 'Flow (m3/s)', 'F',\n       'Free Cyanide (mg/L)', 'Hydroxide Alkalinity as CaCO3 (mg/L)', 'Fe',\n       'Pb', 'Mg', 'Mn', 'Hg', 'Ni', 'Oxidation Reduction Potential (mV)',\n       'pH', 'K', 'P', 'Se', 'Ag', 'Na',\n       'Sulfate as SO4 - Turbidimetric (Dissolved)  (mg/L)', 'SO4',\n       'Suspended Solids (SS) (mg/L)', 'Temperature (?C)', 'Sn',\n       'Weak Acid Dissociable Cyanide (mg/L)', 'Zn', 'Total Alkalinity',\n       'Sulfate as SO4  Turbidimetric (mg/L)', 'Year', 'Month'],\n      dtype='object')"
     },
     "metadata": {},
     "output_type": "execute_result",
     "execution_count": 2
    }
   ],
   "source": [
    "import pandas as pd\n",
    "\n",
    "df = pd.read_csv('../../media/development/test.csv')\n",
    "df['Date'] = pd.to_datetime(df['Date'])\n",
    "df.dtypes\n",
    "df.columns"
   ]
  },
  {
   "cell_type": "code",
   "execution_count": 27,
   "outputs": [
    {
     "data": {
      "text/plain": "                             Ca\nLocation                       \nAlexandria                 52.0\nBromley                   170.0\nBull Creek                 77.5\nCanberra                   79.5\nEndor                     190.0\nFreo                       48.0\nHilltop                   117.0\nHong Kong 4               112.0\nKingdom                    77.5\nKings Landing 1           124.0\nKings Landing 2           109.5\nMordor                     63.0\nNumber 10 Downing Street   84.5\nRisa                      143.0\nTatooine                   53.0\nThe Shire                 196.5\nThe White House           319.0\nUWA                        41.0\nWinterfell                 39.0\nWinterfell 2               45.0",
      "text/html": "<div>\n<style scoped>\n    .dataframe tbody tr th:only-of-type {\n        vertical-align: middle;\n    }\n\n    .dataframe tbody tr th {\n        vertical-align: top;\n    }\n\n    .dataframe thead th {\n        text-align: right;\n    }\n</style>\n<table border=\"1\" class=\"dataframe\">\n  <thead>\n    <tr style=\"text-align: right;\">\n      <th></th>\n      <th>Ca</th>\n    </tr>\n    <tr>\n      <th>Location</th>\n      <th></th>\n    </tr>\n  </thead>\n  <tbody>\n    <tr>\n      <th>Alexandria</th>\n      <td>52.0</td>\n    </tr>\n    <tr>\n      <th>Bromley</th>\n      <td>170.0</td>\n    </tr>\n    <tr>\n      <th>Bull Creek</th>\n      <td>77.5</td>\n    </tr>\n    <tr>\n      <th>Canberra</th>\n      <td>79.5</td>\n    </tr>\n    <tr>\n      <th>Endor</th>\n      <td>190.0</td>\n    </tr>\n    <tr>\n      <th>Freo</th>\n      <td>48.0</td>\n    </tr>\n    <tr>\n      <th>Hilltop</th>\n      <td>117.0</td>\n    </tr>\n    <tr>\n      <th>Hong Kong 4</th>\n      <td>112.0</td>\n    </tr>\n    <tr>\n      <th>Kingdom</th>\n      <td>77.5</td>\n    </tr>\n    <tr>\n      <th>Kings Landing 1</th>\n      <td>124.0</td>\n    </tr>\n    <tr>\n      <th>Kings Landing 2</th>\n      <td>109.5</td>\n    </tr>\n    <tr>\n      <th>Mordor</th>\n      <td>63.0</td>\n    </tr>\n    <tr>\n      <th>Number 10 Downing Street</th>\n      <td>84.5</td>\n    </tr>\n    <tr>\n      <th>Risa</th>\n      <td>143.0</td>\n    </tr>\n    <tr>\n      <th>Tatooine</th>\n      <td>53.0</td>\n    </tr>\n    <tr>\n      <th>The Shire</th>\n      <td>196.5</td>\n    </tr>\n    <tr>\n      <th>The White House</th>\n      <td>319.0</td>\n    </tr>\n    <tr>\n      <th>UWA</th>\n      <td>41.0</td>\n    </tr>\n    <tr>\n      <th>Winterfell</th>\n      <td>39.0</td>\n    </tr>\n    <tr>\n      <th>Winterfell 2</th>\n      <td>45.0</td>\n    </tr>\n  </tbody>\n</table>\n</div>"
     },
     "metadata": {},
     "output_type": "execute_result",
     "execution_count": 27
    }
   ],
   "source": [
    "# BAR\n",
    "from typing import List\n",
    "\n",
    "def x_y_aggregation(df: pd.DataFrame, x: List[str], y: List[str], aggregation: str):\n",
    "    if aggregation == 'last':\n",
    "        return last_date(df, x).set_index(*x)[[*y]]\n",
    "    return df.groupby(x).agg(aggregation)[[*y]]\n",
    "\n",
    "def last_date(df: pd.DataFrame, groupby: List[str]):\n",
    "    return df.iloc[df.groupby(groupby).agg({'Date': 'idxmax'}).Date]\n",
    "\n",
    "aggregation_types = ['Last', 'Max', 'Min', 'Mean', 'Median']   \n",
    "categorical_x = ['Location', 'Date', 'Year', 'Month']\n",
    "x = 'Location'\n",
    "y = 'Ca'\n",
    "agg = aggregation_types[-1]\n",
    "x_y_aggregation(df, [x], [y], agg.lower())"
   ],
   "metadata": {
    "collapsed": false,
    "pycharm": {
     "name": "#%%\n",
     "is_executing": false
    }
   }
  },
  {
   "cell_type": "code",
   "execution_count": 17,
   "outputs": [
    {
     "data": {
      "text/plain": "          As     Ba\n1275  0.0005  0.068\n1278  0.0005  0.073\n1291  0.1020  0.116\n1292  0.0040  0.032\n1293  0.1320  0.124\n...      ...    ...\n2082  0.0800  0.020\n2084  0.0010  0.011\n2090  0.0160  0.038\n2091  0.0220  0.055\n2093  0.0080  0.031\n\n[606 rows x 2 columns]",
      "text/html": "<div>\n<style scoped>\n    .dataframe tbody tr th:only-of-type {\n        vertical-align: middle;\n    }\n\n    .dataframe tbody tr th {\n        vertical-align: top;\n    }\n\n    .dataframe thead th {\n        text-align: right;\n    }\n</style>\n<table border=\"1\" class=\"dataframe\">\n  <thead>\n    <tr style=\"text-align: right;\">\n      <th></th>\n      <th>As</th>\n      <th>Ba</th>\n    </tr>\n  </thead>\n  <tbody>\n    <tr>\n      <th>1275</th>\n      <td>0.0005</td>\n      <td>0.068</td>\n    </tr>\n    <tr>\n      <th>1278</th>\n      <td>0.0005</td>\n      <td>0.073</td>\n    </tr>\n    <tr>\n      <th>1291</th>\n      <td>0.1020</td>\n      <td>0.116</td>\n    </tr>\n    <tr>\n      <th>1292</th>\n      <td>0.0040</td>\n      <td>0.032</td>\n    </tr>\n    <tr>\n      <th>1293</th>\n      <td>0.1320</td>\n      <td>0.124</td>\n    </tr>\n    <tr>\n      <th>...</th>\n      <td>...</td>\n      <td>...</td>\n    </tr>\n    <tr>\n      <th>2082</th>\n      <td>0.0800</td>\n      <td>0.020</td>\n    </tr>\n    <tr>\n      <th>2084</th>\n      <td>0.0010</td>\n      <td>0.011</td>\n    </tr>\n    <tr>\n      <th>2090</th>\n      <td>0.0160</td>\n      <td>0.038</td>\n    </tr>\n    <tr>\n      <th>2091</th>\n      <td>0.0220</td>\n      <td>0.055</td>\n    </tr>\n    <tr>\n      <th>2093</th>\n      <td>0.0080</td>\n      <td>0.031</td>\n    </tr>\n  </tbody>\n</table>\n<p>606 rows × 2 columns</p>\n</div>"
     },
     "metadata": {},
     "output_type": "execute_result",
     "execution_count": 17
    }
   ],
   "source": [
    "# SCATTER\n",
    "def x_y(df: pd.DataFrame, x: str, y: str):\n",
    "    tmp = df[df[y].notna()]\n",
    "    return tmp[tmp[y].notna()][[x,y]]\n",
    "\n",
    "x = 'As'\n",
    "y = 'Ba'\n",
    "x_y(df, x, y)"
   ],
   "metadata": {
    "collapsed": false,
    "pycharm": {
     "name": "#%%\n",
     "is_executing": false
    }
   }
  }
 ],
 "metadata": {
  "kernelspec": {
   "display_name": "Python 3",
   "language": "python",
   "name": "python3"
  },
  "language_info": {
   "codemirror_mode": {
    "name": "ipython",
    "version": 2
   },
   "file_extension": ".py",
   "mimetype": "text/x-python",
   "name": "python",
   "nbconvert_exporter": "python",
   "pygments_lexer": "ipython2",
   "version": "2.7.6"
  },
  "pycharm": {
   "stem_cell": {
    "cell_type": "raw",
    "source": [],
    "metadata": {
     "collapsed": false
    }
   }
  }
 },
 "nbformat": 4,
 "nbformat_minor": 0
}